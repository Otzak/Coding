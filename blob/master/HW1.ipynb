{
 "cells": [
  {
   "cell_type": "code",
   "execution_count": null,
   "metadata": {
    "scrolled": true
   },
   "outputs": [],
   "source": [
    "number = input('Введите число ')\n",
    "number = int(number)\n",
    "if number>9:\n",
    "    print('nope')\n",
    "else:\n",
    "    print('   _~_    ' * number)\n",
    "    print('  (o o)   ' * number)\n",
    "    print(' /  V  \\  ' * number)\n",
    "    print('/(  _  )\\ ' * number)\n",
    "    print('  ^^ ^^   ' * number)"
   ]
  },
  {
   "cell_type": "code",
   "execution_count": null,
   "metadata": {},
   "outputs": [],
   "source": [
    "sentence = \"Один человек, практикующий доброту в глуши, стоит всех храмов, воздвигнутых этим миром\"\n",
    "words = sentence.split()\n",
    "print(len(words))\n",
    "print(len(sentence))"
   ]
  },
  {
   "cell_type": "code",
   "execution_count": null,
   "metadata": {},
   "outputs": [],
   "source": [
    "sentence = \"Один человек, практикующий доброту в глуши, стоит всех храмов, воздвигнутых этим миром\"\n",
    "print(sentence[2])\n",
    "print(sentence[-2])\n",
    "print(sentence[:5])\n",
    "print(sentence[:-2])\n",
    "print(sentence[1::2])\n",
    "print(sentence[::2])\n",
    "print(sentence[::-1])\n",
    "print(sentence[::-2])\n",
    "print(len(sentence))"
   ]
  },
  {
   "cell_type": "code",
   "execution_count": null,
   "metadata": {},
   "outputs": [],
   "source": [
    "word1 = 'наворован'\n",
    "if ((word1[::-1]) == word1):\n",
    "    print('yes')\n",
    "else:\n",
    "    print('no')\n",
    "word2 = 'дождь'\n",
    "if ((word2[::-1]) == word1):\n",
    "    print('yes')\n",
    "else:\n",
    "    print('no')"
   ]
  },
  {
   "cell_type": "code",
   "execution_count": null,
   "metadata": {
    "scrolled": true
   },
   "outputs": [],
   "source": [
    "sentence = '''законы физики рядом с черной дырой уже не работают в том представлении в котором мы привыкли \n",
    "пространство время искривляется и все события протекают уже совсем по другому \n",
    "словно пылесос черная дыра поглощает все что находится около нее планеты астероиды свет и прочее \n",
    "ранее считалось что черная дыра ничего не излучает но как доказал стивен хокинг черная дыра излучает антивещество \n",
    "то есть поедает вещество и выделяет антивещество \n",
    "ранее думали что если кинуть в черную дыру человека то ему труба порвет на субатомы \n",
    "но как оказалось по некоторым уравнениям есть определенные траектории путешествия сквозь черную дыру чтоб чувствовать себя нормально \n",
    "правда не ясно что будет за ней другой мир или ничего \n",
    "область вокруг черной дыры которая интересна называется горизонтом событий \n",
    "если туда полететь не зная волшебное уравнение то будет конечно не очень \n",
    "наблюдатель будет видеть как космический корабль влетает в горизонт событий и крайне медленно потом отдаляется пока не застынет в центре\n",
    "у самого же космонавта дела будут идти совсем по другому \n",
    "искривленное пространство будет лепить из него как из пластилина различные формы пока наконец не разорвет все на субатомы \n",
    "но для внешнего наблюдателя космонавт навсегда останется улыбающимся и махающим в иллюминатор застывшим изображением'''\n",
    "words = sentence.split()\n",
    "print(words)\n",
    "word = input('Введите какое-нибудь слово ')\n",
    "if word in sentence:\n",
    "    print('Слово ' + word + ' встречается в тексте ' + str(sentence.count(word)) + ' раз')\n",
    "else:\n",
    "    word = word.split()\n",
    "    words = words + word\n",
    "    print(words)\n",
    "    print('Слово добавлено')"
   ]
  },
  {
   "cell_type": "code",
   "execution_count": null,
   "metadata": {},
   "outputs": [],
   "source": []
  },
  {
   "cell_type": "code",
   "execution_count": null,
   "metadata": {},
   "outputs": [],
   "source": []
  }
 ],
 "metadata": {
  "kernelspec": {
   "display_name": "Python 3",
   "language": "python",
   "name": "python3"
  },
  "language_info": {
   "codemirror_mode": {
    "name": "ipython",
    "version": 3
   },
   "file_extension": ".py",
   "mimetype": "text/x-python",
   "name": "python",
   "nbconvert_exporter": "python",
   "pygments_lexer": "ipython3",
   "version": "3.6.5"
  }
 },
 "nbformat": 4,
 "nbformat_minor": 2
}
